{
 "cells": [
  {
   "cell_type": "code",
   "execution_count": 56,
   "metadata": {},
   "outputs": [],
   "source": [
    "import requests\n",
    "from bs4 import BeautifulSoup\n",
    "import pandas as pd"
   ]
  },
  {
   "cell_type": "code",
   "execution_count": 57,
   "metadata": {},
   "outputs": [],
   "source": [
    "reviewlist = []"
   ]
  },
  {
   "cell_type": "code",
   "execution_count": 58,
   "metadata": {},
   "outputs": [],
   "source": [
    "def get_soup(url):\n",
    "    r = requests.get('http://localhost:8050/render.html', params={'url': url, 'wait': 2})\n",
    "    soup = BeautifulSoup(r.text, 'html.parser')\n",
    "    return soup"
   ]
  },
  {
   "cell_type": "code",
   "execution_count": 59,
   "metadata": {},
   "outputs": [],
   "source": [
    "def get_reviews(soup):\n",
    "    reviews = soup.find_all('div', {'data-hook': 'review'})\n",
    "    try:\n",
    "        for item in reviews:\n",
    "            review = {\n",
    "            'product': soup.title.text.replace('Amazon.com: Customer reviews:', '').strip(),\n",
    "            'title': item.find('a', {'data-hook': 'review-title'}).text.strip(),\n",
    "            'rating':  float(item.find('i', {'data-hook': 'review-star-rating'}).text.replace('out of 5 stars', '').strip()),\n",
    "            'body': item.find('span', {'data-hook': 'review-body'}).text.strip(),\n",
    "            }\n",
    "            reviewlist.append(review)\n",
    "    except:\n",
    "        pass"
   ]
  },
  {
   "cell_type": "code",
   "execution_count": 75,
   "metadata": {},
   "outputs": [
    {
     "name": "stdout",
     "output_type": "stream",
     "text": [
      "Getting page: 1\n",
      "412\n",
      "Getting page: 2\n",
      "418\n"
     ]
    }
   ],
   "source": [
    "for x in range(1,999):\n",
    "    soup = get_soup(f'https://www.amazon.com/Aliruke-Galaxy-A12-Case-Red/product-reviews/B08VW8FKW2/ref=cm_cr_dp_d_show_all_btm?ie=UTF8&reviewerType=all_reviews&pageNumber={x}')\n",
    "    print(f'Getting page: {x}')\n",
    "    get_reviews(soup)\n",
    "    print(len(reviewlist))\n",
    "    if not soup.find('li', {'class': 'a-disabled a-last'}):\n",
    "        pass\n",
    "    else:\n",
    "        break"
   ]
  },
  {
   "cell_type": "code",
   "execution_count": 76,
   "metadata": {},
   "outputs": [
    {
     "name": "stdout",
     "output_type": "stream",
     "text": [
      "Fin.\n"
     ]
    }
   ],
   "source": [
    "df = pd.DataFrame(reviewlist)\n",
    "df.to_excel('random9.xlsx', index=False)\n",
    "print('Fin.')\n",
    "\n"
   ]
  },
  {
   "cell_type": "code",
   "execution_count": 77,
   "metadata": {},
   "outputs": [
    {
     "data": {
      "text/plain": [
       "14"
      ]
     },
     "execution_count": 77,
     "metadata": {},
     "output_type": "execute_result"
    }
   ],
   "source": [
    "df['product'].nunique()"
   ]
  },
  {
   "cell_type": "code",
   "execution_count": 48,
   "metadata": {},
   "outputs": [],
   "source": [
    "df1 = pd.read_excel('Amazon.xlsx')"
   ]
  },
  {
   "cell_type": "code",
   "execution_count": 50,
   "metadata": {},
   "outputs": [
    {
     "data": {
      "text/html": [
       "<div>\n",
       "<style scoped>\n",
       "    .dataframe tbody tr th:only-of-type {\n",
       "        vertical-align: middle;\n",
       "    }\n",
       "\n",
       "    .dataframe tbody tr th {\n",
       "        vertical-align: top;\n",
       "    }\n",
       "\n",
       "    .dataframe thead th {\n",
       "        text-align: right;\n",
       "    }\n",
       "</style>\n",
       "<table border=\"1\" class=\"dataframe\">\n",
       "  <thead>\n",
       "    <tr style=\"text-align: right;\">\n",
       "      <th></th>\n",
       "      <th>product</th>\n",
       "      <th>title</th>\n",
       "      <th>rating</th>\n",
       "      <th>body</th>\n",
       "    </tr>\n",
       "  </thead>\n",
       "  <tbody>\n",
       "    <tr>\n",
       "      <th>8336</th>\n",
       "      <td>Galaxy S21 Plus HD Clear Tempered Glass Screen...</td>\n",
       "      <td>Not what I was expecting</td>\n",
       "      <td>3</td>\n",
       "      <td>I like it's clear and when you lay it down it ...</td>\n",
       "    </tr>\n",
       "    <tr>\n",
       "      <th>8337</th>\n",
       "      <td>Galaxy S21 Plus HD Clear Tempered Glass Screen...</td>\n",
       "      <td>Works great</td>\n",
       "      <td>5</td>\n",
       "      <td>I upgraded my phone and I decided to purchase ...</td>\n",
       "    </tr>\n",
       "    <tr>\n",
       "      <th>8338</th>\n",
       "      <td>Galaxy S21 Plus HD Clear Tempered Glass Screen...</td>\n",
       "      <td>Very durable</td>\n",
       "      <td>5</td>\n",
       "      <td>Very easy installation and very durable</td>\n",
       "    </tr>\n",
       "    <tr>\n",
       "      <th>8339</th>\n",
       "      <td>Galaxy S21 Plus HD Clear Tempered Glass Screen...</td>\n",
       "      <td>BUY IT!</td>\n",
       "      <td>5</td>\n",
       "      <td>I bought this phone mainly for the camera so p...</td>\n",
       "    </tr>\n",
       "    <tr>\n",
       "      <th>8340</th>\n",
       "      <td>Galaxy S21 Plus HD Clear Tempered Glass Screen...</td>\n",
       "      <td>not really impressed.</td>\n",
       "      <td>3</td>\n",
       "      <td>glad there were 2 in the package. 1st one snap...</td>\n",
       "    </tr>\n",
       "  </tbody>\n",
       "</table>\n",
       "</div>"
      ],
      "text/plain": [
       "                                                product  \\\n",
       "8336  Galaxy S21 Plus HD Clear Tempered Glass Screen...   \n",
       "8337  Galaxy S21 Plus HD Clear Tempered Glass Screen...   \n",
       "8338  Galaxy S21 Plus HD Clear Tempered Glass Screen...   \n",
       "8339  Galaxy S21 Plus HD Clear Tempered Glass Screen...   \n",
       "8340  Galaxy S21 Plus HD Clear Tempered Glass Screen...   \n",
       "\n",
       "                         title  rating  \\\n",
       "8336  Not what I was expecting       3   \n",
       "8337               Works great       5   \n",
       "8338              Very durable       5   \n",
       "8339                   BUY IT!       5   \n",
       "8340     not really impressed.       3   \n",
       "\n",
       "                                                   body  \n",
       "8336  I like it's clear and when you lay it down it ...  \n",
       "8337  I upgraded my phone and I decided to purchase ...  \n",
       "8338            Very easy installation and very durable  \n",
       "8339  I bought this phone mainly for the camera so p...  \n",
       "8340  glad there were 2 in the package. 1st one snap...  "
      ]
     },
     "execution_count": 50,
     "metadata": {},
     "output_type": "execute_result"
    }
   ],
   "source": [
    "df1.tail()"
   ]
  },
  {
   "cell_type": "code",
   "execution_count": 51,
   "metadata": {},
   "outputs": [
    {
     "data": {
      "text/plain": [
       "86"
      ]
     },
     "execution_count": 51,
     "metadata": {},
     "output_type": "execute_result"
    }
   ],
   "source": [
    "df1['product'].nunique()"
   ]
  },
  {
   "cell_type": "code",
   "execution_count": null,
   "metadata": {},
   "outputs": [],
   "source": []
  }
 ],
 "metadata": {
  "kernelspec": {
   "display_name": "Python 3",
   "language": "python",
   "name": "python3"
  },
  "language_info": {
   "codemirror_mode": {
    "name": "ipython",
    "version": 3
   },
   "file_extension": ".py",
   "mimetype": "text/x-python",
   "name": "python",
   "nbconvert_exporter": "python",
   "pygments_lexer": "ipython3",
   "version": "3.8.5"
  }
 },
 "nbformat": 4,
 "nbformat_minor": 4
}
